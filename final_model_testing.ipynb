{
 "cells": [
  {
   "cell_type": "markdown",
   "metadata": {},
   "source": [
    "# Bike sharing demand prediction (Kaggle competition)"
   ]
  },
  {
   "cell_type": "markdown",
   "metadata": {},
   "source": [
    "### Data preprocessing and EDA\n",
    "\n",
    "Dataset : <a href = https://www.kaggle.com/c/bike-sharing-demand> Kaggle Bike sharing demand competition<a>\n",
    "#### Steps : \n",
    "    1) Data preprocessing \n",
    "    2) EDA\n",
    "    3) Model testing\n",
    "    4) Hyperparameter tuning"
   ]
  },
  {
   "cell_type": "markdown",
   "metadata": {},
   "source": [
    "## 3) Model testing"
   ]
  },
  {
   "cell_type": "code",
   "execution_count": 1,
   "metadata": {},
   "outputs": [],
   "source": [
    "# Import packages\n",
    "\n",
    "import numpy as np\n",
    "import pandas as pd\n",
    "from sklearn.model_selection import RepeatedKFold, train_test_split, GridSearchCV, RandomizedSearchCV, cross_val_score\n",
    "from sklearn.metrics import mean_squared_log_error, SCORERS, make_scorer, r2_score\n",
    "from sklearn.linear_model import LinearRegression\n",
    "from sklearn.tree import DecisionTreeRegressor\n",
    "from sklearn.experimental import enable_hist_gradient_boosting\n",
    "from sklearn.ensemble import GradientBoostingRegressor, HistGradientBoostingRegressor, RandomForestRegressor\n",
    "from xgboost import XGBRegressor\n",
    "from lightgbm import LGBMRegressor\n",
    "from catboost import CatBoostRegressor\n",
    "from sklearn.base import clone\n",
    "import matplotlib.pyplot as plt\n",
    "\n",
    "import warnings\n",
    "warnings.filterwarnings(\"ignore\")"
   ]
  },
  {
   "cell_type": "code",
   "execution_count": 2,
   "metadata": {},
   "outputs": [
    {
     "name": "stdout",
     "output_type": "stream",
     "text": [
      "Train feature shape : (10886, 13)\n",
      "Target shape : (10886, 3)\n",
      "--------------------\n",
      "Train features : ['season_1', 'season_2', 'season_3', 'season_4', 'weather', 'holiday', 'workingday', 'temp', 'atemp', 'humidity', 'windspeed', 'dayofweek', 'hourofday']\n",
      "\n",
      "Targets : ['casual', 'registered', 'count']\n"
     ]
    }
   ],
   "source": [
    "# Read the preprocessed data files\n",
    "\n",
    "train = pd.read_csv(\"train_preprocessed.csv\")\n",
    "\n",
    "targets = [\"casual\", \"registered\", \"count\"]\n",
    "\n",
    "train_x = train.drop(targets, axis = 1)\n",
    "train_y = train[targets]\n",
    "\n",
    "print(\"\"\"Train feature shape : {}\n",
    "Target shape : {}\"\"\".format(train_x.shape, train_y.shape))\n",
    "print(\"-\"*20)\n",
    "print(\"\"\"Train features : {}\\n\n",
    "Targets : {}\"\"\".format(train_x.columns.tolist(), train_y.columns.tolist()))"
   ]
  },
  {
   "cell_type": "markdown",
   "metadata": {},
   "source": [
    "."
   ]
  },
  {
   "cell_type": "markdown",
   "metadata": {},
   "source": [
    "Target variable is a count, which is always non-negative. To avoid predicting any negative values, train the models to predict square roots of casual and registered count seperately, then square and add these values to get total hourly count.\n",
    "\n",
    "Split the data into train and test to evaluate the model performance on unseen data."
   ]
  },
  {
   "cell_type": "code",
   "execution_count": 3,
   "metadata": {},
   "outputs": [
    {
     "name": "stdout",
     "output_type": "stream",
     "text": [
      "Train data : X = (8708, 13), y = (8708, 3)\n",
      "Validation data : X = (2178, 13), y = (2178, 3)\n"
     ]
    }
   ],
   "source": [
    "x_tr, x_te, y_tr, y_te = train_test_split(train_x, train_y, test_size=0.2, random_state = 8)\n",
    "print(\"\"\"Train data : X = {}, y = {}\n",
    "Validation data : X = {}, y = {}\"\"\".format(x_tr.shape, y_tr.shape, x_te.shape, y_te.shape))\n",
    "\n",
    "x_tr = x_tr.reset_index(drop = True)\n",
    "x_te = x_te.reset_index(drop = True)\n",
    "y_tr = y_tr.reset_index(drop = True)\n",
    "y_te = y_te.reset_index(drop = True)"
   ]
  },
  {
   "cell_type": "markdown",
   "metadata": {},
   "source": [
    "."
   ]
  },
  {
   "cell_type": "markdown",
   "metadata": {},
   "source": [
    "Now let's see how different models perform on the train data. For this, calculate root mean squared logarithmic error and r-squared values for each model with 4 fold cross validation."
   ]
  },
  {
   "cell_type": "code",
   "execution_count": 4,
   "metadata": {},
   "outputs": [],
   "source": [
    "# Splitting data for cross validation\n",
    "rkf = RepeatedKFold(n_splits=4, n_repeats=2, random_state=42)"
   ]
  },
  {
   "cell_type": "code",
   "execution_count": 5,
   "metadata": {},
   "outputs": [],
   "source": [
    "# Function to calculate RMSLE of one single model\n",
    "\n",
    "def single_model_rmsle(model, train, count):\n",
    "    rmsle = np.array([])\n",
    "    for train_id, test_id in rkf.split(train, count):\n",
    "        predictor = clone(model)\n",
    "        \n",
    "        train_feats = train.iloc[train_id,:]\n",
    "        test_feats = train.iloc[test_id,:]\n",
    "        \n",
    "        train_y = np.sqrt(count[train_id])\n",
    "        test_y = count[test_id]\n",
    "        \n",
    "        predictor.fit(train_feats, train_y)\n",
    "        preds = np.square(predictor.predict(test_feats))\n",
    "        \n",
    "        curr_rmsle = np.sqrt(mean_squared_log_error(y_true=test_y, y_pred=preds))\n",
    "        rmsle = np.append(rmsle, [curr_rmsle], axis = 0)\n",
    "        \n",
    "    return rmsle  "
   ]
  },
  {
   "cell_type": "code",
   "execution_count": 6,
   "metadata": {},
   "outputs": [],
   "source": [
    "# Functions to predict count of a single model and cross validation scores of the entire model.\n",
    "def predict_count(model, train_feats, test_feats, train_id, test_id, target):\n",
    "    tr_target = np.sqrt(target[train_id])\n",
    "    ts_target = target[test_id]\n",
    "    \n",
    "    model_count = clone(model)\n",
    "    \n",
    "    model_count.fit(train_feats, tr_target)\n",
    "    \n",
    "    count_preds = np.square(model_count.predict(test_feats))\n",
    "    \n",
    "    return ts_target, count_preds\n",
    "\n",
    "def get_model_rmsle(model, predict = \"count\", train = x_tr, cas_target = y_tr[\"casual\"], reg_target = y_tr[\"registered\"], count = y_tr[\"count\"]):\n",
    "    rmsle = np.array([])\n",
    "    r2 = np.array([])\n",
    "    for train_id, test_id in rkf.split(train, count):\n",
    "        train_feats = train.iloc[train_id,:]\n",
    "        test_feats = train.iloc[test_id,:]\n",
    "        \n",
    "        if predict == \"casual\" or predict == \"count\":\n",
    "            cts_target, cpreds = predict_count(model, train_feats = train_feats, test_feats = test_feats,\n",
    "                                  train_id = train_id, test_id = test_id, target = cas_target)\n",
    "            \n",
    "            if predict == \"casual\":\n",
    "                curr_rmsle = np.sqrt(mean_squared_log_error(y_true=cts_target, y_pred=cpreds))\n",
    "                rmsle = np.append(rmsle, [curr_rmsle], axis = 0)\n",
    "                \n",
    "                curr_r2 = r2_score(y_true=cts_target, y_pred=cpreds)\n",
    "                r2 = np.append(r2, [curr_r2], axis = 0)\n",
    "                \n",
    "            \n",
    "        if predict == \"registered\" or predict == \"count\":\n",
    "            rts_target, rpreds = predict_count(model, train_feats = train_feats, test_feats = test_feats,\n",
    "                                  train_id = train_id, test_id = test_id, target = reg_target)\n",
    "            \n",
    "            if predict == \"registered\":\n",
    "                curr_rmsle = np.sqrt(mean_squared_log_error(y_true=rts_target, y_pred=rpreds))\n",
    "                rmsle = np.append(rmsle, [curr_rmsle], axis = 0)\n",
    "                \n",
    "                curr_r2 = r2_score(y_true=rts_target, y_pred=rpreds)\n",
    "                r2 = np.append(r2, [curr_r2], axis = 0)\n",
    "                \n",
    "        \n",
    "        if predict == \"count\":\n",
    "            count_ts_target = count[test_id]\n",
    "            preds = cpreds+rpreds\n",
    "            curr_rmsle = np.sqrt(mean_squared_log_error(y_true=count_ts_target, y_pred=preds))\n",
    "            rmsle = np.append(rmsle, [curr_rmsle], axis = 0)\n",
    "            \n",
    "            curr_r2 = r2_score(y_true=count_ts_target, y_pred=preds)\n",
    "            r2 = np.append(r2, [curr_r2], axis = 0)\n",
    "                \n",
    "    return rmsle, r2"
   ]
  },
  {
   "cell_type": "code",
   "execution_count": 7,
   "metadata": {},
   "outputs": [],
   "source": [
    "# Models to test out\n",
    "models = [(\"linear\", LinearRegression(n_jobs = -1)),\n",
    "         (\"tree\", DecisionTreeRegressor(random_state = 42)),\n",
    "         (\"gradient_boost\", GradientBoostingRegressor(random_state=42)),\n",
    "         (\"hist_gb\", HistGradientBoostingRegressor(random_state=42)),\n",
    "         (\"rf\", RandomForestRegressor(random_state = 42, n_jobs = -1)),\n",
    "         (\"xgbr\", XGBRegressor(random_state = 42, n_jobs = -1)),\n",
    "         (\"lgbr\", LGBMRegressor(random_state=42, n_jobs = -1)),\n",
    "         (\"cat\", CatBoostRegressor(random_state=42, silent = True))]"
   ]
  },
  {
   "cell_type": "code",
   "execution_count": 28,
   "metadata": {},
   "outputs": [],
   "source": [
    "# with rmsle and r2\n",
    "model_performances = {}\n",
    "for model_tuple in models:\n",
    "    model_name = model_tuple[0]\n",
    "    model_rmsle, model_r2 = get_model_rmsle(model_tuple[1])\n",
    "    \n",
    "    model_performances.update({model_name:[model_rmsle, model_r2]})\n",
    "    "
   ]
  },
  {
   "cell_type": "code",
   "execution_count": 29,
   "metadata": {},
   "outputs": [],
   "source": [
    "model_performance_df = pd.DataFrame({\"mean_rmsle\":[a[0].mean() for a in model_performances.values()],\n",
    "                                    \"mean_r2\":[a[1].mean() for a in model_performances.values()]}, index = model_performances.keys())"
   ]
  },
  {
   "cell_type": "code",
   "execution_count": 30,
   "metadata": {},
   "outputs": [
    {
     "data": {
      "image/png": "[encoded data removed]",
      "text/plain": [
       "<Figure size 432x288 with 1 Axes>"
      ]
     },
     "metadata": {
      "needs_background": "light"
     },
     "output_type": "display_data"
    },
    {
     "data": {
      "image/png": "[encoded data removed]",
      "text/plain": [
       "<Figure size 432x288 with 1 Axes>"
      ]
     },
     "metadata": {
      "needs_background": "light"
     },
     "output_type": "display_data"
    }
   ],
   "source": [
    "plt.barh(model_performance_df.sort_values(\"mean_rmsle\").index, model_performance_df.sort_values(\"mean_rmsle\")[\"mean_rmsle\"])\n",
    "plt.title(\"Model RMSLE on total hourly count\")\n",
    "plt.show()\n",
    "\n",
    "plt.barh(model_performance_df.sort_values(\"mean_r2\").index, model_performance_df.sort_values(\"mean_r2\")[\"mean_r2\"])\n",
    "plt.title(\"Model R2 scores on total hourly count\")\n",
    "plt.show()"
   ]
  },
  {
   "cell_type": "markdown",
   "metadata": {},
   "source": [
    "."
   ]
  },
  {
   "cell_type": "markdown",
   "metadata": {},
   "source": [
    "All but linear regression model perform very well. "
   ]
  },
  {
   "cell_type": "markdown",
   "metadata": {},
   "source": [
    "## 4) Hyperparameter tuning"
   ]
  },
  {
   "cell_type": "markdown",
   "metadata": {},
   "source": [
    "Let's see if tuning model hyperparameters improves the performance or not."
   ]
  },
  {
   "cell_type": "code",
   "execution_count": 38,
   "metadata": {},
   "outputs": [],
   "source": [
    "# RMSLE scorer function for hyperparams tuning:\n",
    "def rmsle_func(y, ypred):\n",
    "    return np.sqrt(mean_squared_log_error(y_true=np.square(y), y_pred=np.square(ypred)))"
   ]
  },
  {
   "cell_type": "markdown",
   "metadata": {},
   "source": [
    "CatBoost models are built such that they give the best result with default parameters. So, let's tune a random forest model. Hyperparameters tuning needs to be done seperately on casual and registered count target."
   ]
  },
  {
   "cell_type": "markdown",
   "metadata": {},
   "source": [
    "#### -> Casual Model:"
   ]
  },
  {
   "cell_type": "code",
   "execution_count": 37,
   "metadata": {},
   "outputs": [
    {
     "name": "stdout",
     "output_type": "stream",
     "text": [
      "0.5152271553790302\n"
     ]
    }
   ],
   "source": [
    "# Default hyperparams\n",
    "rf_cas = RandomForestRegressor(random_state = 42, n_jobs = -1).fit(x_tr, np.sqrt(y_tr[\"casual\"]))\n",
    "rf_cas_preds = np.square(rf_cas.predict(x_te))\n",
    "print(np.sqrt(mean_squared_log_error(y_true=y_te[\"casual\"], y_pred=rf_cas_preds)))"
   ]
  },
  {
   "cell_type": "code",
   "execution_count": 41,
   "metadata": {},
   "outputs": [
    {
     "name": "stdout",
     "output_type": "stream",
     "text": [
      "Fitting 4 folds for each of 50 candidates, totalling 200 fits\n"
     ]
    },
    {
     "data": {
      "text/plain": [
       "RandomizedSearchCV(cv=4,\n",
       "                   estimator=RandomForestRegressor(n_jobs=-1, random_state=42),\n",
       "                   n_iter=50, n_jobs=-1,\n",
       "                   param_distributions={'max_depth': [10, 12, 14, 16, None],\n",
       "                                        'max_features': [4, 5, 6, 7, 8, 'auto'],\n",
       "                                        'max_samples': [0.45, 0.6, 0.75, None],\n",
       "                                        'min_samples_leaf': [1, 2, 3, 4],\n",
       "                                        'min_samples_split': [2, 5, 10, 15],\n",
       "                                        'n_estimators': [50, 100, 200, 500]},\n",
       "                   refit='rmsle',\n",
       "                   scoring={'r2': make_scorer(r2_score),\n",
       "                            'rmsle': make_scorer(rmsle_func)},\n",
       "                   verbose=2)"
      ]
     },
     "execution_count": 41,
     "metadata": {},
     "output_type": "execute_result"
    }
   ],
   "source": [
    "# RandomizedSearch tuning hyperparams\n",
    "sqrt_y_casual_tr = np.sqrt(y_tr[\"casual\"])\n",
    "casual_params_rcv = {\"n_estimators\":[50,100,200,500],\n",
    "                \"max_depth\":[10,12,14,16,None],\n",
    "                \"min_samples_split\":[2,5,10,15],\n",
    "                \"min_samples_leaf\":[1,2,3,4],\n",
    "                \"max_features\":[4,5,6,7,8,\"auto\"],\n",
    "                \"max_samples\":[0.45,0.6,0.75,None]}\n",
    "\n",
    "rf_cas_rcv = RandomForestRegressor(n_jobs = -1, random_state=42)\n",
    "\n",
    "random_grid_cas = RandomizedSearchCV(estimator=rf_cas_rcv, param_distributions=casual_params_rcv,\n",
    "                                 scoring = {\"rmsle\":make_scorer(rmsle_func), \"r2\":make_scorer(r2_score)}, cv = 4, n_iter = 50,\n",
    "                                 verbose = 2, n_jobs = -1, refit = \"rmsle\")\n",
    "random_grid_cas.fit(x_tr, sqrt_y_casual_tr)\n"
   ]
  },
  {
   "cell_type": "code",
   "execution_count": 42,
   "metadata": {},
   "outputs": [
    {
     "name": "stdout",
     "output_type": "stream",
     "text": [
      "0.5529566552904486\n"
     ]
    }
   ],
   "source": [
    "best_cas_test_preds = np.square(random_grid_cas.predict(x_te))\n",
    "print(np.sqrt(mean_squared_log_error(y_pred=best_cas_test_preds, y_true = y_te[\"casual\"])))"
   ]
  },
  {
   "cell_type": "markdown",
   "metadata": {},
   "source": [
    "#### -> Registered model:"
   ]
  },
  {
   "cell_type": "code",
   "execution_count": 44,
   "metadata": {},
   "outputs": [
    {
     "name": "stdout",
     "output_type": "stream",
     "text": [
      "0.3850123388116811\n"
     ]
    }
   ],
   "source": [
    "rf_reg = RandomForestRegressor(random_state = 42, n_jobs = -1).fit(x_tr, np.sqrt(y_tr[\"registered\"]))\n",
    "rf_reg_preds = np.square(rf_reg.predict(x_te))\n",
    "print(np.sqrt(mean_squared_log_error(y_true=y_te[\"registered\"], y_pred=rf_reg_preds)))"
   ]
  },
  {
   "cell_type": "code",
   "execution_count": 45,
   "metadata": {},
   "outputs": [
    {
     "name": "stdout",
     "output_type": "stream",
     "text": [
      "Fitting 4 folds for each of 50 candidates, totalling 200 fits\n"
     ]
    },
    {
     "data": {
      "text/plain": [
       "RandomizedSearchCV(cv=4,\n",
       "                   estimator=RandomForestRegressor(n_jobs=-1, random_state=42),\n",
       "                   n_iter=50, n_jobs=-1,\n",
       "                   param_distributions={'max_depth': [10, 12, 14, 16, None],\n",
       "                                        'max_features': [4, 5, 6, 7, 8, 'auto'],\n",
       "                                        'max_samples': [0.45, 0.6, 0.75, None],\n",
       "                                        'min_samples_leaf': [1, 2, 3, 4],\n",
       "                                        'min_samples_split': [2, 5, 10, 15],\n",
       "                                        'n_estimators': [50, 100, 200, 500]},\n",
       "                   refit='rmsle',\n",
       "                   scoring={'r2': make_scorer(r2_score),\n",
       "                            'rmsle': make_scorer(rmsle_func)},\n",
       "                   verbose=2)"
      ]
     },
     "execution_count": 45,
     "metadata": {},
     "output_type": "execute_result"
    }
   ],
   "source": [
    "# RandomizedSearch tuning hyperparams for casual count models\n",
    "sqrt_y_registered_tr = np.sqrt(y_tr[\"registered\"])\n",
    "registered_params_rcv = {\"n_estimators\":[50,100,200,500],\n",
    "                \"max_depth\":[10,12,14,16,None],\n",
    "                \"min_samples_split\":[2,5,10,15],\n",
    "                \"min_samples_leaf\":[1,2,3,4],\n",
    "                \"max_features\":[4,5,6,7,8,\"auto\"],\n",
    "                \"max_samples\":[0.45,0.6,0.75,None]}\n",
    "\n",
    "rf_reg_rcv = RandomForestRegressor(n_jobs = -1, random_state=42)\n",
    "\n",
    "random_grid_reg = RandomizedSearchCV(estimator=rf_cas_rcv, param_distributions=registered_params_rcv,\n",
    "                                 scoring = {\"rmsle\":make_scorer(rmsle_func), \"r2\":make_scorer(r2_score)}, cv = 4, n_iter = 50,\n",
    "                                 verbose = 2, n_jobs = -1, refit = \"rmsle\")\n",
    "random_grid_reg.fit(x_tr, sqrt_y_registered_tr)\n"
   ]
  },
  {
   "cell_type": "code",
   "execution_count": 46,
   "metadata": {},
   "outputs": [
    {
     "name": "stdout",
     "output_type": "stream",
     "text": [
      "0.5261135859288065\n"
     ]
    }
   ],
   "source": [
    "best_reg_test_preds = np.square(random_grid_reg.predict(x_te))\n",
    "print(np.sqrt(mean_squared_log_error(y_pred=best_reg_test_preds, y_true = y_te[\"registered\"])))"
   ]
  },
  {
   "cell_type": "markdown",
   "metadata": {},
   "source": [
    "."
   ]
  },
  {
   "cell_type": "markdown",
   "metadata": {},
   "source": [
    "In both cases, random forest with default parameteres performs the best."
   ]
  },
  {
   "cell_type": "markdown",
   "metadata": {},
   "source": [
    "Finally, let's look at feature importances to see which features are most relevant in predicting the demand. As catboost model gives the least RMSLE, use catboost to get feature importances."
   ]
  },
  {
   "cell_type": "code",
   "execution_count": 52,
   "metadata": {},
   "outputs": [],
   "source": [
    "cat_cas = CatBoostRegressor(silent = True, random_state=42).fit(x_tr, np.sqrt(y_tr[\"casual\"]))\n",
    "cat_reg = CatBoostRegressor(silent = True, random_state=42).fit(x_tr, np.sqrt(y_tr[\"registered\"]))"
   ]
  },
  {
   "cell_type": "code",
   "execution_count": 79,
   "metadata": {},
   "outputs": [
    {
     "data": {
      "image/png": "[encoded data removed]",
      "text/plain": [
       "<Figure size 1440x432 with 2 Axes>"
      ]
     },
     "metadata": {
      "needs_background": "light"
     },
     "output_type": "display_data"
    }
   ],
   "source": [
    "features = x_tr.columns\n",
    "importances_cas = cat_cas.feature_importances_\n",
    "importances_reg = cat_reg.feature_importances_\n",
    "indices_cas = np.argsort(importances_cas)\n",
    "indices_reg = np.argsort(importances_reg)\n",
    "\n",
    "plt.figure(figsize = (20,6))\n",
    "plt.subplot(1,2,1)\n",
    "plt.barh(range(len(indices_cas)), importances_cas[indices_cas], color='b', align='center')\n",
    "plt.yticks(range(len(indices_cas)), [features[i] for i in indices_cas])\n",
    "plt.title('Feature importances for casual count')\n",
    "plt.xlabel('Relative Importance')\n",
    "\n",
    "plt.subplot(1,2,2)\n",
    "plt.barh(range(len(indices_reg)), importances_reg[indices_reg], color='b', align='center')\n",
    "plt.yticks(range(len(indices_reg)), [features[i] for i in indices_reg])\n",
    "plt.title('Feature importances for registered count')\n",
    "plt.xlabel('Relative Importance')\n",
    "\n",
    "plt.show()"
   ]
  },
  {
   "cell_type": "markdown",
   "metadata": {},
   "source": [
    "In both cases, hourofday is the modt important feature, followed by workingday."
   ]
  },
  {
   "cell_type": "code",
   "execution_count": null,
   "metadata": {},
   "outputs": [],
   "source": []
  }
 ],
 "metadata": {
  "kernelspec": {
   "display_name": "Python 3 (ipykernel)",
   "language": "python",
   "name": "python3"
  },
  "language_info": {
   "codemirror_mode": {
    "name": "ipython",
    "version": 3
   },
   "file_extension": ".py",
   "mimetype": "text/x-python",
   "name": "python",
   "nbconvert_exporter": "python",
   "pygments_lexer": "ipython3",
   "version": "3.8.3"
  }
 },
 "nbformat": 4,
 "nbformat_minor": 4
}
